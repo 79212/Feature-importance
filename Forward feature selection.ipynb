{
 "cells": [
  {
   "cell_type": "code",
   "execution_count": 86,
   "metadata": {},
   "outputs": [],
   "source": [
    "from sklearn.linear_model import SGDClassifier\n",
    "from sklearn.model_selection import train_test_split\n",
    "from sklearn.metrics import f1_score"
   ]
  },
  {
   "cell_type": "code",
   "execution_count": 48,
   "metadata": {},
   "outputs": [],
   "source": [
    "x_train, x_cv, y_train, y_cv=train_test_split(df, target, test_size=0.2, stratify=target)"
   ]
  },
  {
   "cell_type": "code",
   "execution_count": 87,
   "metadata": {},
   "outputs": [],
   "source": [
    "def evaluate_metric(model, x_cv, y_cv):\n",
    "    return f1_score(y_cv, model.predict(x_cv), average='micro')"
   ]
  },
  {
   "cell_type": "code",
   "execution_count": 79,
   "metadata": {},
   "outputs": [],
   "source": [
    "def forward_feature_selection(x_train, x_cv, y_train, y_cv, n):\n",
    "    feature_set = []\n",
    "    for num_features in range(n):\n",
    "        metric_list = [] # Choose appropriate metric based on business problem\n",
    "        model = SGDClassifier() # You can choose any model you like, this technique is model agnostic\n",
    "        for feature in x_train.columns:\n",
    "            if feature not in feature_set:\n",
    "                f_set = feature_set.copy()\n",
    "                f_set.append(feature)\n",
    "                model.fit(x_train[f_set], y_train)\n",
    "                metric_list.append((evaluate_metric(model, x_cv[f_set], y_cv), feature))\n",
    "\n",
    "        metric_list.sort(key=lambda x : x[0], reverse = True) # In case metric follows \"the more, the merrier\"\n",
    "        feature_set.append(metric_list[0][1])\n",
    "    return feature_set"
   ]
  },
  {
   "cell_type": "code",
   "execution_count": 88,
   "metadata": {},
   "outputs": [],
   "source": [
    "f=forward_feature_selection(x_train, x_cv, y_train, y_cv, 4)"
   ]
  },
  {
   "cell_type": "code",
   "execution_count": 89,
   "metadata": {},
   "outputs": [
    {
     "data": {
      "text/plain": [
       "['petal width (cm)',\n",
       " 'petal length (cm)',\n",
       " 'sepal width (cm)',\n",
       " 'sepal length (cm)']"
      ]
     },
     "execution_count": 89,
     "metadata": {},
     "output_type": "execute_result"
    }
   ],
   "source": [
    "f"
   ]
  }
 ],
 "metadata": {
  "kernelspec": {
   "display_name": "Python 3",
   "language": "python",
   "name": "python3"
  },
  "language_info": {
   "codemirror_mode": {
    "name": "ipython",
    "version": 3
   },
   "file_extension": ".py",
   "mimetype": "text/x-python",
   "name": "python",
   "nbconvert_exporter": "python",
   "pygments_lexer": "ipython3",
   "version": "3.7.1"
  }
 },
 "nbformat": 4,
 "nbformat_minor": 2
}
